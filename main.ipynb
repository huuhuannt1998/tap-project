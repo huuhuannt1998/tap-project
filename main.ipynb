{
 "cells": [
  {
   "cell_type": "code",
   "execution_count": 9,
   "metadata": {},
   "outputs": [
    {
     "name": "stdout",
     "output_type": "stream",
     "text": [
      "ChatCompletionMessage(content='Sure, here\\'s a possible Trigger-Action Rule for your home automation system:\\n\\n**Trigger:** You leave home (your mobile device disconnects from the home Wi-Fi network or your location is detected as being outside a set perimeter around your home).\\n\\n**Action:** Turn off all lights.\\n\\nHere\\'s a detailed implementation, assuming your home automation system supports these settings:\\n\\n1. **Trigger:**\\n   - **Condition:** \"When my mobile device disconnects from the home Wi-Fi\" OR \"When my location is outside a specified perimeter (geofence) around my home\"\\n\\n2. **Action:**\\n   - **Device Group:** \"All Lights\"\\n   - **Action:** \"Turn off\"\\n\\nWould you like any additional conditions or actions to be included, such as turning off other devices or sending you a notification?', role='assistant', function_call=None, tool_calls=None)\n"
     ]
    }
   ],
   "source": [
    "import os\n",
    "from openai import OpenAI\n",
    "\n",
    "client = OpenAI(\n",
    "    # This is the default and can be omitted\n",
    "    api_key=\"KEY\",\n",
    ")\n",
    "\n",
    "\n",
    "completion = client.chat.completions.create(\n",
    "  model=\"gpt-4o\",\n",
    "  messages=[\n",
    "    {\"role\": \"system\", \"content\": \"You are a smart home assistant. Your task is generating Trigger-Action Rules for Home Automation\"},\n",
    "    {\"role\": \"user\", \"content\": \"I want to turn off lights when I am not at home\"}\n",
    "  ]\n",
    ")\n",
    "\n",
    "print(completion.choices[0].message)"
   ]
  },
  {
   "cell_type": "code",
   "execution_count": null,
   "metadata": {},
   "outputs": [],
   "source": []
  }
 ],
 "metadata": {
  "kernelspec": {
   "display_name": "Python 3",
   "language": "python",
   "name": "python3"
  },
  "language_info": {
   "codemirror_mode": {
    "name": "ipython",
    "version": 3
   },
   "file_extension": ".py",
   "mimetype": "text/x-python",
   "name": "python",
   "nbconvert_exporter": "python",
   "pygments_lexer": "ipython3",
   "version": "3.12.4"
  }
 },
 "nbformat": 4,
 "nbformat_minor": 2
}
